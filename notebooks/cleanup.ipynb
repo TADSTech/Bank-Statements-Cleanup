{
 "cells": [
  {
   "cell_type": "markdown",
   "id": "9f0e473f",
   "metadata": {},
   "source": [
    "# Personal Finance Tracker — Bank Statements Cleaning\n",
    "\n",
    "Developed automated cleaning script for bank statements to simplify monthly budgeting. This notebook runs the cleaning pipeline, displays samples of the cleaned data, and shows monthly summaries and category breakdowns."
   ]
  },
  {
   "cell_type": "markdown",
   "id": "6ad6ed83",
   "metadata": {},
   "source": [
    "## Run the automated cleaning script\n",
    "\n",
    "The next cell executes the robust cleaning script located in ../scripts/cleanup.py. The script produces cleaned CSV files in ../data/cleaned/."
   ]
  },
  {
   "cell_type": "code",
   "execution_count": null,
   "id": "3b96d564",
   "metadata": {},
   "outputs": [],
   "source": [
    "import subprocess, sys, os\n",
    "\n",
    "# Run the cleaning script (prints a short summary and creates cleaned files)\n",
    "script_path = os.path.join('..', 'scripts', 'cleanup.py')\n",
    "print('Executing:', script_path)\n",
    "subprocess.run([sys.executable, script_path], check=True)"
   ]
  },
  {
   "cell_type": "markdown",
   "id": "81c03652",
   "metadata": {},
   "source": [
    "## Load cleaned outputs\n",
    "\n",
    "After the script runs, load the cleaned dataset and monthly summary for inspection."
   ]
  },
  {
   "cell_type": "code",
   "execution_count": null,
   "id": "bd6126e4",
   "metadata": {},
   "outputs": [],
   "source": [
    "import pandas as pd, os\n",
    "\n",
    "base = os.path.normpath(os.path.join('..'))\n",
    "clean_dir = os.path.join(base, 'data', 'cleaned')\n",
    "cleaned_csv = os.path.join(clean_dir, 'cleaned_bank_statements.csv')\n",
    "monthly_csv = os.path.join(clean_dir, 'monthly_summary.csv')\n",
    "\n",
    "df = pd.read_csv(cleaned_csv, parse_dates=['Date'])\n",
    "monthly = pd.read_csv(monthly_csv)\n",
    "\n",
    "print('Cleaned rows:', len(df))\n",
    "df.head(10)"
   ]
  },
  {
   "cell_type": "markdown",
   "id": "45a103e4",
   "metadata": {},
   "source": [
    "## Data snapshot and quick checks\n",
    "\n",
    "Inspect a few cleaned rows and ensure Date, Description, Amount, Category, Balance and Anomaly columns are present."
   ]
  },
  {
   "cell_type": "code",
   "execution_count": null,
   "id": "19485818",
   "metadata": {},
   "outputs": [],
   "source": [
    "# Show cleaned sample with anomalies highlighted\n",
    "display_cols = ['Date','Description','Amount','Category','Balance','Anomaly']\n",
    "df[display_cols].head(15)"
   ]
  },
  {
   "cell_type": "markdown",
   "id": "774991ba",
   "metadata": {},
   "source": [
    "## Monthly summary\n",
    "\n",
    "The script also generates per-month totals: income, expenses, net and transaction count."
   ]
  },
  {
   "cell_type": "code",
   "execution_count": null,
   "id": "ed91577d",
   "metadata": {},
   "outputs": [],
   "source": [
    "monthly.head(20)"
   ]
  },
  {
   "cell_type": "markdown",
   "id": "80f1ff55",
   "metadata": {},
   "source": [
    "## Next steps (suggestions)\n",
    "\n",
    "- Use the cleaned CSV in a budgeting/dashboard tool (e.g., Power BI, Excel, or Plotly Dash).\n",
    "- Extend category synonyms to capture more merchant-specific patterns.\n",
    "- Integrate with personal income/expense forecasts."
   ]
  }
 ],
 "metadata": {
  "kernelspec": {
   "display_name": "venv",
   "language": "python",
   "name": "python3"
  },
  "language_info": {
   "codemirror_mode": {
    "name": "ipython",
    "version": 3
   },
   "file_extension": ".py",
   "mimetype": "text/x-python",
   "name": "python",
   "nbconvert_exporter": "python",
   "pygments_lexer": "ipython3",
   "version": "3.13.3"
  }
 },
 "nbformat": 4,
 "nbformat_minor": 5
}
