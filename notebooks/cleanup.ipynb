{
 "cells": [
  {
   "cell_type": "markdown",
   "id": "c8bc6884",
   "metadata": {},
   "source": [
    "# Bank Statements Data Cleaning\n",
    "\n",
    "This notebook processes and cleans a dataset of bank statements from 2025. The goal is to standardize formats, handle missing values, correct inconsistencies, and produce clean datasets for analysis."
   ]
  },
  {
   "cell_type": "markdown",
   "id": "cd4fb0aa",
   "metadata": {},
   "source": [
    "## Step 1: Import Libraries and Load Data\n",
    "\n",
    "We begin by importing the necessary libraries and loading the dataset."
   ]
  },
  {
   "cell_type": "code",
   "execution_count": 13,
   "id": "7f24f3e3",
   "metadata": {},
   "outputs": [],
   "source": [
    "import pandas as pd\n",
    "import numpy as np\n",
    "import charset_normalizer\n",
    "from dateutil import parser as dtpr\n",
    "import re\n",
    "from fuzzywuzzy import fuzz, process\n",
    "\n",
    "# Load the raw dataset\n",
    "bank_data = pd.read_csv('../data/raw/bank_statements_2025.csv')\n",
    "\n",
    "# Set seed for reproducibility\n",
    "np.random.seed(42)"
   ]
  },
  {
   "cell_type": "markdown",
   "id": "21938b1b",
   "metadata": {},
   "source": [
    "## Step 2: Initial Data Inspection\n",
    "\n",
    "Let's examine the dataset to ensure it loaded correctly and identify any missing values (represented as NaN or None)."
   ]
  },
  {
   "cell_type": "code",
   "execution_count": null,
   "id": "410c2391",
   "metadata": {},
   "outputs": [
    {
     "data": {
      "text/html": [
       "<div>\n",
       "<style scoped>\n",
       "    .dataframe tbody tr th:only-of-type {\n",
       "        vertical-align: middle;\n",
       "    }\n",
       "\n",
       "    .dataframe tbody tr th {\n",
       "        vertical-align: top;\n",
       "    }\n",
       "\n",
       "    .dataframe thead th {\n",
       "        text-align: right;\n",
       "    }\n",
       "</style>\n",
       "<table border=\"1\" class=\"dataframe\">\n",
       "  <thead>\n",
       "    <tr style=\"text-align: right;\">\n",
       "      <th></th>\n",
       "      <th>Date</th>\n",
       "      <th>Description</th>\n",
       "      <th>Amount</th>\n",
       "      <th>Category</th>\n",
       "      <th>Account</th>\n",
       "    </tr>\n",
       "  </thead>\n",
       "  <tbody>\n",
       "    <tr>\n",
       "      <th>0</th>\n",
       "      <td>2024-12-02</td>\n",
       "      <td>Convenience store purchase</td>\n",
       "      <td>389.03</td>\n",
       "      <td>GROCREIES</td>\n",
       "      <td>Credit Card</td>\n",
       "    </tr>\n",
       "    <tr>\n",
       "      <th>1</th>\n",
       "      <td>2025.02.23</td>\n",
       "      <td>Wages direct deposit</td>\n",
       "      <td>-50.57</td>\n",
       "      <td>Salaray</td>\n",
       "      <td>Credit Card</td>\n",
       "    </tr>\n",
       "    <tr>\n",
       "      <th>2</th>\n",
       "      <td>2024-10-15</td>\n",
       "      <td>Landlord payment</td>\n",
       "      <td>328.12</td>\n",
       "      <td>Rent</td>\n",
       "      <td>Savings</td>\n",
       "    </tr>\n",
       "    <tr>\n",
       "      <th>3</th>\n",
       "      <td>2025-02-22</td>\n",
       "      <td>Water utility payment</td>\n",
       "      <td>447.00</td>\n",
       "      <td>UTI</td>\n",
       "      <td>Credit Card</td>\n",
       "    </tr>\n",
       "    <tr>\n",
       "      <th>4</th>\n",
       "      <td>03 August 2025</td>\n",
       "      <td>Restaurant dining</td>\n",
       "      <td>400.18</td>\n",
       "      <td>Entervtainment</td>\n",
       "      <td>Credit Card</td>\n",
       "    </tr>\n",
       "  </tbody>\n",
       "</table>\n",
       "</div>"
      ],
      "text/plain": [
       "             Date                 Description  Amount        Category  \\\n",
       "0      2024-12-02  Convenience store purchase  389.03       GROCREIES   \n",
       "1      2025.02.23        Wages direct deposit  -50.57         Salaray   \n",
       "2      2024-10-15            Landlord payment  328.12            Rent   \n",
       "3      2025-02-22       Water utility payment  447.00             UTI   \n",
       "4  03 August 2025           Restaurant dining  400.18  Entervtainment   \n",
       "\n",
       "       Account  \n",
       "0  Credit Card  \n",
       "1  Credit Card  \n",
       "2      Savings  \n",
       "3  Credit Card  \n",
       "4  Credit Card  "
      ]
     },
     "execution_count": 14,
     "metadata": {},
     "output_type": "execute_result"
    }
   ],
   "source": [
    "bank_data.sample(10)"
   ]
  },
  {
   "cell_type": "markdown",
   "id": "d48845f5",
   "metadata": {},
   "source": [
    "## Step 3: Assess Missing Data\n",
    "\n",
    "We need to quantify missing values to understand the scale of the problem."
   ]
  },
  {
   "cell_type": "code",
   "execution_count": 15,
   "id": "cad8d5ec",
   "metadata": {},
   "outputs": [
    {
     "data": {
      "text/plain": [
       "Date           3239\n",
       "Description    3424\n",
       "Amount         3324\n",
       "Category       3316\n",
       "Account        3497\n",
       "dtype: int64"
      ]
     },
     "execution_count": 15,
     "metadata": {},
     "output_type": "execute_result"
    }
   ],
   "source": [
    "# Count missing values per column\n",
    "missing_data_count = bank_data.isnull().sum()\n",
    "missing_data_count"
   ]
  },
  {
   "cell_type": "markdown",
   "id": "79ba6f35",
   "metadata": {},
   "source": [
    "Let's calculate the percentage of missing data to assess its impact."
   ]
  },
  {
   "cell_type": "code",
   "execution_count": 16,
   "id": "8f1b162d",
   "metadata": {},
   "outputs": [
    {
     "name": "stdout",
     "output_type": "stream",
     "text": [
      "5.01% of the data is missing\n"
     ]
    }
   ],
   "source": [
    "# Calculate total missing values and percentage\n",
    "total_cells = np.prod(bank_data.shape)\n",
    "total_missing = missing_data_count.sum()\n",
    "percent_missing = round((total_missing / total_cells) * 100, 2)\n",
    "print(f'{percent_missing}% of the data is missing')"
   ]
  },
  {
   "cell_type": "markdown",
   "id": "5ce909e7",
   "metadata": {},
   "source": [
    "## Step 4: Verify File Encoding\n",
    "\n",
    "Ensure the file's encoding is correct to avoid issues with text data."
   ]
  },
  {
   "cell_type": "code",
   "execution_count": 17,
   "id": "471446df",
   "metadata": {},
   "outputs": [
    {
     "name": "stdout",
     "output_type": "stream",
     "text": [
      "{'encoding': 'ascii', 'language': 'English', 'confidence': 1.0}\n"
     ]
    }
   ],
   "source": [
    "# Check the first 15,000 bytes for encoding\n",
    "with open('../data/raw/bank_statements_2025.csv', 'rb') as rawdata:\n",
    "    result = charset_normalizer.detect(rawdata.read(15000))\n",
    "print(result)"
   ]
  },
  {
   "cell_type": "markdown",
   "id": "8d1fb047",
   "metadata": {},
   "source": [
    "## Step 5: Standardize the Date Column\n",
    "\n",
    "Convert dates to a consistent format (DD/MM/YY) and handle invalid entries."
   ]
  },
  {
   "cell_type": "code",
   "execution_count": 18,
   "id": "e5bd4c86",
   "metadata": {},
   "outputs": [],
   "source": [
    "def standardize_date(date_str):\n",
    "    \"\"\"\n",
    "    Standardize date strings to 'DD/MM/YY' format.\n",
    "    Args:\n",
    "        date_str: Input date string.\n",
    "    Returns:\n",
    "        Formatted date string or NaN if invalid.\n",
    "    \"\"\"\n",
    "    if pd.isna(date_str) or not isinstance(date_str, str) or date_str.strip() == '':\n",
    "        return np.nan\n",
    "    try:\n",
    "        parsed_date = dtpr.parse(date_str)\n",
    "        return parsed_date.strftime('%d/%m/%y')\n",
    "    except (ValueError, TypeError):\n",
    "        return np.nan\n",
    "\n",
    "# Apply standardization and convert to datetime\n",
    "bank_data['Date'] = bank_data['Date'].apply(standardize_date)\n",
    "bank_data['Date'] = pd.to_datetime(bank_data['Date'], format='%d/%m/%y', errors='coerce')\n",
    "\n",
    "# Handle remaining NaT with forward fill\n",
    "bank_data['Date'] = bank_data['Date'].ffill()"
   ]
  },
  {
   "cell_type": "markdown",
   "id": "62c78a8b",
   "metadata": {},
   "source": [
    "## Step 6: Clean the Description Column\n",
    "\n",
    "Handle missing values, standardize to string type, and ensure consistency."
   ]
  },
  {
   "cell_type": "code",
   "execution_count": 19,
   "id": "1585314e",
   "metadata": {},
   "outputs": [
    {
     "data": {
      "text/plain": [
       "<StringArray>\n",
       "[    'Convenience store purchase',           'Wages direct deposit',\n",
       "               'Landlord payment',          'Water utility payment',\n",
       "              'Restaurant dining',                     'Rental fee',\n",
       "        'Concert ticket purchase',             'Phone bill payment',\n",
       "           'Supermarket shopping',        'Food market transaction',\n",
       "       'Electricity bill payment',         'Grocery store purchase',\n",
       "             'Weekly grocery run',              'Employer paycheck',\n",
       "          'Movie theater tickets',               'Freelance income',\n",
       "               'Gas bill payment',                 'Salary payment',\n",
       "                'Payroll deposit',        'Apartment lease payment',\n",
       "           'Amusement park visit', 'Streaming service subscription',\n",
       "                    'Unspecified',           'Monthly rent payment',\n",
       "          'Internet service bill',          'Housing rent transfer']\n",
       "Length: 26, dtype: string"
      ]
     },
     "execution_count": 19,
     "metadata": {},
     "output_type": "execute_result"
    }
   ],
   "source": [
    "# Fill missing values and convert to string\n",
    "bank_data['Description'] = bank_data['Description'].fillna('Unspecified').astype('string')\n",
    "bank_data['Description'] = bank_data['Description'].replace('nan', 'Unspecified')\n",
    "\n",
    "# Trim whitespace\n",
    "bank_data['Description'] = bank_data['Description'].str.strip()\n",
    "\n",
    "# Display unique descriptions\n",
    "bank_data['Description'].unique()"
   ]
  },
  {
   "cell_type": "markdown",
   "id": "8d601218",
   "metadata": {},
   "source": [
    "## Step 7: Clean the Amount Column\n",
    "\n",
    "Remove non-numeric characters, handle negative values, and interpolate missing values."
   ]
  },
  {
   "cell_type": "code",
   "execution_count": 20,
   "id": "2662ae72",
   "metadata": {},
   "outputs": [
    {
     "data": {
      "text/plain": [
       "0        389.03\n",
       "1        -50.57\n",
       "2        328.12\n",
       "3        447.00\n",
       "4        400.18\n",
       "          ...  \n",
       "67102   -322.76\n",
       "67103   -278.45\n",
       "67104   -332.44\n",
       "67105    245.60\n",
       "67106    -83.33\n",
       "Name: Amount, Length: 67107, dtype: float64"
      ]
     },
     "execution_count": 20,
     "metadata": {},
     "output_type": "execute_result"
    }
   ],
   "source": [
    "def clean_amount(amount):\n",
    "    \"\"\"\n",
    "    Clean amount by removing non-numeric characters and rounding to 2 decimals.\n",
    "    Args:\n",
    "        amount: Input value.\n",
    "    Returns:\n",
    "        Float rounded to 2 decimals or NaN if invalid.\n",
    "    \"\"\"\n",
    "    if pd.isna(amount) or amount == '':\n",
    "        return np.nan\n",
    "    amount_str = str(amount)\n",
    "    cleaned = re.sub(r'[^\\d.-]', '', amount_str)\n",
    "    cleaned = re.sub(r'\\.+', '.', cleaned)\n",
    "    if cleaned.count('-') > 1:\n",
    "        cleaned = '-' + cleaned.replace('-', '')\n",
    "    try:\n",
    "        return round(float(cleaned), 2)\n",
    "    except ValueError:\n",
    "        return np.nan\n",
    "\n",
    "# Apply cleaning and interpolate missing values\n",
    "bank_data['Amount'] = bank_data['Amount'].apply(clean_amount)\n",
    "bank_data['Amount'] = bank_data['Amount'].interpolate(method='linear').round(2)\n",
    "\n",
    "# Display cleaned amounts\n",
    "bank_data['Amount']"
   ]
  },
  {
   "cell_type": "markdown",
   "id": "d2fc7388",
   "metadata": {},
   "source": [
    "## Step 8: Standardize the Category Column\n",
    "\n",
    "Use fuzzy matching with an expanded synonym map to correct inconsistencies."
   ]
  },
  {
   "cell_type": "code",
   "execution_count": 21,
   "id": "bfd4aba8",
   "metadata": {},
   "outputs": [],
   "source": [
    "# Define valid categories and expanded synonym map\n",
    "valid_categories = ['Groceries', 'Utilities', 'Entertainment', 'Salary', 'Rent', 'Unspecified']\n",
    "synonym_map = {\n",
    "    'Groceries': ['food', 'grocery', 'grocreies', 'supermarket', 'market'],\n",
    "    'Utilities': ['bills', 'uti', 'utility', 'gas', 'electricity', 'water', 'phone', 'internet'],\n",
    "    'Entertainment': ['fun', 'entervtainment', 'dining', 'movie', 'concert', 'streaming'],\n",
    "    'Salary': ['income', 'salaray', 'wages', 'payroll', 'paycheck', 'freelance'],\n",
    "    'Rent': ['housing', 'landlord', 'lease', 'rent']\n",
    "}\n",
    "\n",
    "# Create reverse synonym mapping\n",
    "synonym_to_category = {syn.lower(): cat for cat, syn_list in synonym_map.items() for syn in syn_list}\n",
    "\n",
    "def clean_category(category, threshold=80):\n",
    "    \"\"\"\n",
    "    Standardize category using fuzzy matching and synonyms.\n",
    "    Args:\n",
    "        category: Input category string.\n",
    "        threshold: Fuzzy matching score threshold.\n",
    "    Returns:\n",
    "        Standardized category or 'Unspecified' if no match.\n",
    "    \"\"\"\n",
    "    if pd.isna(category) or not isinstance(category, str) or category.strip() == '':\n",
    "        return 'Unspecified'\n",
    "    category_lower = category.lower().strip()\n",
    "    if category_lower in synonym_to_category:\n",
    "        return synonym_to_category[category_lower]\n",
    "    match = process.extractOne(category_lower, valid_categories, scorer=fuzz.ratio)\n",
    "    return match[0] if match and match[1] >= threshold else 'Unspecified'\n",
    "\n",
    "# Apply cleaning\n",
    "bank_data['Category'] = bank_data['Category'].fillna('Unspecified').apply(clean_category)"
   ]
  },
  {
   "cell_type": "markdown",
   "id": "02c6f7d9",
   "metadata": {},
   "source": [
    "## Step 9: Clean the Account Column\n",
    "\n",
    "Ensure consistency by handling missing values and standardizing the format."
   ]
  },
  {
   "cell_type": "code",
   "execution_count": 22,
   "id": "e9f6066b",
   "metadata": {},
   "outputs": [],
   "source": [
    "# Fill missing values and standardize\n",
    "bank_data['Account'] = bank_data['Account'].fillna('Unspecified').astype(str)\n",
    "bank_data['Account'] = bank_data['Account'].replace('nan', 'Unspecified').str.strip()"
   ]
  },
  {
   "cell_type": "markdown",
   "id": "cb10598d",
   "metadata": {},
   "source": [
    "## Step 10: Export Cleaned Datasets\n",
    "\n",
    "Save three versions of the cleaned data:\n",
    "- With leeway (all data preserved).\n",
    "- No leeway (drop rows with any remaining NaNs).\n",
    "- Sorted by date (no leeway)."
   ]
  },
  {
   "cell_type": "code",
   "execution_count": 23,
   "id": "690a3cd2",
   "metadata": {},
   "outputs": [],
   "source": [
    "def perfect_cleanup(df):\n",
    "    \"\"\"\n",
    "    Create a strict version of the dataset by dropping rows with any NaNs,\n",
    "    except for Amount, which is interpolated.\n",
    "    Args:\n",
    "        df: Input DataFrame.\n",
    "    Returns:\n",
    "        Cleaned DataFrame with no missing values.\n",
    "    \"\"\"\n",
    "    df_clean = df.copy()\n",
    "    df_clean['Amount'] = df_clean['Amount'].interpolate(method='linear').round(2)\n",
    "    df_clean = df_clean.dropna()\n",
    "    return df_clean\n",
    "\n",
    "# Export with leeway\n",
    "bank_data.to_csv('../data/cleaned/bank_data_with_leeway.csv', index=False)\n",
    "\n",
    "# Export no leeway\n",
    "bank_data_improved = perfect_cleanup(bank_data)\n",
    "bank_data_improved.to_csv('../data/cleaned/bank_data_no_leeway.csv', index=False)\n",
    "\n",
    "# Export sorted by date (no leeway)\n",
    "sorted_bank_data = bank_data_improved.sort_values(by='Date').reset_index(drop=True)\n",
    "sorted_bank_data.to_csv('../data/cleaned/bank_data_sorted_nl.csv', index=False)"
   ]
  }
 ],
 "metadata": {
  "kernelspec": {
   "display_name": "venv",
   "language": "python",
   "name": "python3"
  },
  "language_info": {
   "codemirror_mode": {
    "name": "ipython",
    "version": 3
   },
   "file_extension": ".py",
   "mimetype": "text/x-python",
   "name": "python",
   "nbconvert_exporter": "python",
   "pygments_lexer": "ipython3",
   "version": "3.13.3"
  }
 },
 "nbformat": 4,
 "nbformat_minor": 5
}
